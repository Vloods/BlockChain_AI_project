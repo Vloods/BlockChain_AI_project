{
 "cells": [
  {
   "cell_type": "code",
   "execution_count": 1,
   "metadata": {},
   "outputs": [],
   "source": [
    "import torch\n",
    "import numpy as np"
   ]
  },
  {
   "cell_type": "code",
   "execution_count": 2,
   "metadata": {},
   "outputs": [],
   "source": [
    "graph = torch.load('ethereum_graph_combine_normalized_pca_4_twitter_features.pt')"
   ]
  },
  {
   "cell_type": "code",
   "execution_count": 4,
   "metadata": {},
   "outputs": [
    {
     "data": {
      "text/plain": [
       "Data(x=[1709575, 12], edge_index=[2, 13170869])"
      ]
     },
     "execution_count": 4,
     "metadata": {},
     "output_type": "execute_result"
    }
   ],
   "source": [
    "graph"
   ]
  },
  {
   "cell_type": "code",
   "execution_count": 88,
   "metadata": {},
   "outputs": [],
   "source": [
    "import pandas as pd\n",
    "import torch\n",
    "\n",
    "x = graph.x\n",
    "edge_index = graph.edge_index\n",
    "\n",
    "nodes_df = pd.DataFrame(\n",
    "    (b.sum(dim=-1).type(torch.float32)[0] == b.sum(dim=-1).type(torch.float32)).cpu().numpy(), \n",
    "    columns=[f\"feature_{i}\" for i in range(1)]\n",
    ")\n",
    "nodes_df.insert(0, 'id', nodes_df.index) \n",
    "nodes_df.to_csv(\"nodes.csv\", index=False)"
   ]
  },
  {
   "cell_type": "code",
   "execution_count": 4,
   "metadata": {},
   "outputs": [],
   "source": [
    "edges = edge_index.t().cpu().numpy()  \n",
    "edges_df = pd.DataFrame(edges, columns=[\"source\", \"target\"])\n",
    "\n",
    "edges_df.to_csv(\"edges.csv\", index=False)"
   ]
  },
  {
   "cell_type": "code",
   "execution_count": 62,
   "metadata": {},
   "outputs": [],
   "source": [
    "b = graph.x[:, 8:]"
   ]
  },
  {
   "cell_type": "code",
   "execution_count": 77,
   "metadata": {},
   "outputs": [
    {
     "data": {
      "text/plain": [
       "tensor([True, True, True,  ..., True, True, True])"
      ]
     },
     "execution_count": 77,
     "metadata": {},
     "output_type": "execute_result"
    }
   ],
   "source": [
    "b.sum(dim=-1).type(torch.float32)[0] == b.sum(dim=-1).type(torch.float32)"
   ]
  },
  {
   "cell_type": "code",
   "execution_count": 69,
   "metadata": {},
   "outputs": [
    {
     "data": {
      "text/plain": [
       "tensor([False, False, False,  ..., False, False, False])"
      ]
     },
     "execution_count": 69,
     "metadata": {},
     "output_type": "execute_result"
    }
   ],
   "source": [
    "(b.sum(dim=-1) == -0.9405)"
   ]
  },
  {
   "cell_type": "code",
   "execution_count": 79,
   "metadata": {},
   "outputs": [
    {
     "data": {
      "text/plain": [
       "tensor(1685433)"
      ]
     },
     "execution_count": 79,
     "metadata": {},
     "output_type": "execute_result"
    }
   ],
   "source": [
    "(b.sum(dim=-1).type(torch.float32)[0] == b.sum(dim=-1).type(torch.float32)).sum()"
   ]
  },
  {
   "cell_type": "code",
   "execution_count": 87,
   "metadata": {},
   "outputs": [
    {
     "data": {
      "text/plain": [
       "tensor(-0.9405)"
      ]
     },
     "execution_count": 87,
     "metadata": {},
     "output_type": "execute_result"
    }
   ],
   "source": [
    "s_[329]"
   ]
  },
  {
   "cell_type": "code",
   "execution_count": 84,
   "metadata": {},
   "outputs": [],
   "source": [
    "null = []\n",
    "# item = b.sum(dim=-1).type(torch.float32)[0]\n",
    "s_ = b.sum(dim=-1).type(torch.float32)\n",
    "item = s_[0]\n",
    "for i in range(len(s_)):\n",
    "    if s_[i] != item:\n",
    "        null.append(i)"
   ]
  },
  {
   "cell_type": "code",
   "execution_count": 5,
   "metadata": {},
   "outputs": [],
   "source": [
    "from torch_geometric.utils import to_networkx"
   ]
  },
  {
   "cell_type": "code",
   "execution_count": 6,
   "metadata": {},
   "outputs": [],
   "source": [
    "G = to_networkx(\n",
    "    graph,\n",
    "    node_attrs=['x'],  # Include node features (optional)\n",
    "    to_undirected=True  # Set False if directed\n",
    ")"
   ]
  },
  {
   "cell_type": "code",
   "execution_count": 7,
   "metadata": {},
   "outputs": [
    {
     "data": {
      "text/plain": [
       "<networkx.classes.graph.Graph at 0x16c332bf0>"
      ]
     },
     "execution_count": 7,
     "metadata": {},
     "output_type": "execute_result"
    }
   ],
   "source": [
    "G"
   ]
  },
  {
   "cell_type": "code",
   "execution_count": 8,
   "metadata": {},
   "outputs": [
    {
     "data": {
      "text/plain": [
       "1709575"
      ]
     },
     "execution_count": 8,
     "metadata": {},
     "output_type": "execute_result"
    }
   ],
   "source": [
    "len(G)"
   ]
  },
  {
   "cell_type": "code",
   "execution_count": 6,
   "metadata": {},
   "outputs": [],
   "source": [
    "import networkx as nx\n",
    "import matplotlib.pyplot as plt"
   ]
  },
  {
   "cell_type": "code",
   "execution_count": 8,
   "metadata": {},
   "outputs": [],
   "source": [
    "import igraph as ig"
   ]
  },
  {
   "cell_type": "code",
   "execution_count": 9,
   "metadata": {},
   "outputs": [],
   "source": [
    "edge_index = graph.edge_index \n",
    "edges = edge_index.t().cpu().numpy().tolist()\n",
    "\n",
    "g = ig.Graph()\n",
    "g.add_vertices(1709575) \n",
    "g.add_edges(edges)"
   ]
  },
  {
   "cell_type": "code",
   "execution_count": 54,
   "metadata": {},
   "outputs": [
    {
     "name": "stderr",
     "output_type": "stream",
     "text": [
      "/var/folders/yc/bvh36w157535p8tyfgks79lm0000gn/T/ipykernel_36934/2305550429.py:1: DeprecationWarning: Graph.clusters() is deprecated; use Graph.connected_components() instead\n",
      "  g = g.clusters().giant()\n"
     ]
    },
    {
     "ename": "KeyboardInterrupt",
     "evalue": "",
     "output_type": "error",
     "traceback": [
      "\u001b[0;31m---------------------------------------------------------------------------\u001b[0m",
      "\u001b[0;31mKeyboardInterrupt\u001b[0m                         Traceback (most recent call last)",
      "Cell \u001b[0;32mIn[54], line 4\u001b[0m\n\u001b[1;32m      1\u001b[0m g \u001b[38;5;241m=\u001b[39m g\u001b[38;5;241m.\u001b[39mclusters()\u001b[38;5;241m.\u001b[39mgiant()\n\u001b[1;32m      3\u001b[0m \u001b[38;5;66;03m# Вычислим радиус и диаметр гигантской компоненты\u001b[39;00m\n\u001b[0;32m----> 4\u001b[0m radius \u001b[38;5;241m=\u001b[39m \u001b[43mg\u001b[49m\u001b[38;5;241;43m.\u001b[39;49m\u001b[43mradius\u001b[49m\u001b[43m(\u001b[49m\u001b[43m)\u001b[49m\n\u001b[1;32m      5\u001b[0m diameter \u001b[38;5;241m=\u001b[39m g\u001b[38;5;241m.\u001b[39mdiameter()\n\u001b[1;32m      7\u001b[0m \u001b[38;5;66;03m# Глобальный коэффициент кластеризации (Transitivity)\u001b[39;00m\n\u001b[1;32m      8\u001b[0m \u001b[38;5;66;03m# global_clustering = g.transitivity_undirected()\u001b[39;00m\n\u001b[1;32m      9\u001b[0m \n\u001b[0;32m   (...)\u001b[0m\n\u001b[1;32m     15\u001b[0m \n\u001b[1;32m     16\u001b[0m \u001b[38;5;66;03m# Вывод результатов\u001b[39;00m\n",
      "\u001b[0;31mKeyboardInterrupt\u001b[0m: "
     ]
    }
   ],
   "source": [
    "g = g.clusters().giant()\n",
    "\n",
    "radius = g.radius()\n",
    "diameter = g.diameter()\n",
    "\n",
    "# global_clustering = g.transitivity_undirected()\n",
    "\n",
    "# avg_clustering = sum(g.transitivity_local_undirected(mode=\"zero\")) / g.vcount()\n",
    "\n",
    "# avg_path_length = g.average_path_length()\n",
    "\n",
    "print(f\"Radius of Giant Component: {radius}\")\n",
    "print(f\"Diameter of Giant Component: {diameter}\")\n",
    "# print(f\"Global Clustering Coefficient: {global_clustering:.3f}\")\n",
    "# print(f\"Average Clustering Coefficient: {avg_clustering:.3f}\")\n",
    "# print(f\"Average Path Length: {avg_path_length:.3f}\")"
   ]
  },
  {
   "cell_type": "code",
   "execution_count": 55,
   "metadata": {},
   "outputs": [
    {
     "name": "stdout",
     "output_type": "stream",
     "text": [
      "Global Clustering Coefficient: 0.005\n",
      "Average Clustering Coefficient: 0.045\n"
     ]
    },
    {
     "ename": "NameError",
     "evalue": "name 'avg_path_length' is not defined",
     "output_type": "error",
     "traceback": [
      "\u001b[0;31m---------------------------------------------------------------------------\u001b[0m",
      "\u001b[0;31mNameError\u001b[0m                                 Traceback (most recent call last)",
      "Cell \u001b[0;32mIn[55], line 11\u001b[0m\n\u001b[1;32m      9\u001b[0m \u001b[38;5;28mprint\u001b[39m(\u001b[38;5;124mf\u001b[39m\u001b[38;5;124m\"\u001b[39m\u001b[38;5;124mGlobal Clustering Coefficient: \u001b[39m\u001b[38;5;132;01m{\u001b[39;00mglobal_clustering\u001b[38;5;132;01m:\u001b[39;00m\u001b[38;5;124m.3f\u001b[39m\u001b[38;5;132;01m}\u001b[39;00m\u001b[38;5;124m\"\u001b[39m)\n\u001b[1;32m     10\u001b[0m \u001b[38;5;28mprint\u001b[39m(\u001b[38;5;124mf\u001b[39m\u001b[38;5;124m\"\u001b[39m\u001b[38;5;124mAverage Clustering Coefficient: \u001b[39m\u001b[38;5;132;01m{\u001b[39;00mavg_clustering\u001b[38;5;132;01m:\u001b[39;00m\u001b[38;5;124m.3f\u001b[39m\u001b[38;5;132;01m}\u001b[39;00m\u001b[38;5;124m\"\u001b[39m)\n\u001b[0;32m---> 11\u001b[0m \u001b[38;5;28mprint\u001b[39m(\u001b[38;5;124mf\u001b[39m\u001b[38;5;124m\"\u001b[39m\u001b[38;5;124mAverage Path Length: \u001b[39m\u001b[38;5;132;01m{\u001b[39;00m\u001b[43mavg_path_length\u001b[49m\u001b[38;5;132;01m:\u001b[39;00m\u001b[38;5;124m.3f\u001b[39m\u001b[38;5;132;01m}\u001b[39;00m\u001b[38;5;124m\"\u001b[39m)\n",
      "\u001b[0;31mNameError\u001b[0m: name 'avg_path_length' is not defined"
     ]
    }
   ],
   "source": [
    "global_clustering = g.transitivity_undirected()\n",
    "\n",
    "avg_clustering = sum(g.transitivity_local_undirected(mode=\"zero\")) / g.vcount()\n",
    "\n",
    "# avg_path_length = g.average_path_length()\n",
    "\n",
    "print(f\"Global Clustering Coefficient: {global_clustering:.3f}\")\n",
    "print(f\"Average Clustering Coefficient: {avg_clustering:.3f}\")\n",
    "print(f\"Average Path Length: {avg_path_length:.3f}\")"
   ]
  },
  {
   "cell_type": "code",
   "execution_count": 9,
   "metadata": {},
   "outputs": [
    {
     "name": "stdout",
     "output_type": "stream",
     "text": [
      "=== Базовые метрики ===\n",
      "Количество узлов: 1709575\n",
      "Количество ребер: 13170869\n",
      "Средняя степень: 15.41\n",
      "Плотность графа: 0.0000\n",
      "Связный ли граф? Да\n"
     ]
    }
   ],
   "source": [
    "print(\"=== Базовые метрики ===\")\n",
    "print(f\"Количество узлов: {g.vcount()}\")\n",
    "print(f\"Количество ребер: {g.ecount()}\")\n",
    "print(f\"Средняя степень: {2 * g.ecount() / g.vcount():.2f}\")\n",
    "print(f\"Плотность графа: {g.density():.4f}\")\n",
    "print(f\"Связный ли граф? {'Да' if g.is_connected() else 'Нет'}\")"
   ]
  },
  {
   "cell_type": "code",
   "execution_count": 33,
   "metadata": {},
   "outputs": [
    {
     "name": "stdout",
     "output_type": "stream",
     "text": [
      "\n",
      "=== Центральности (для подвыборки 1000 узлов) ===\n"
     ]
    },
    {
     "ename": "KeyboardInterrupt",
     "evalue": "",
     "output_type": "error",
     "traceback": [
      "\u001b[0;31m---------------------------------------------------------------------------\u001b[0m",
      "\u001b[0;31mKeyboardInterrupt\u001b[0m                         Traceback (most recent call last)",
      "Cell \u001b[0;32mIn[33], line 6\u001b[0m\n\u001b[1;32m      4\u001b[0m \u001b[38;5;28mprint\u001b[39m(\u001b[38;5;124m\"\u001b[39m\u001b[38;5;130;01m\\n\u001b[39;00m\u001b[38;5;124m=== Центральности (для подвыборки 1000 узлов) ===\u001b[39m\u001b[38;5;124m\"\u001b[39m)\n\u001b[1;32m      5\u001b[0m degree_centrality \u001b[38;5;241m=\u001b[39m g\u001b[38;5;241m.\u001b[39mdegree(sample_nodes)\n\u001b[0;32m----> 6\u001b[0m betweenness \u001b[38;5;241m=\u001b[39m \u001b[43mg\u001b[49m\u001b[38;5;241;43m.\u001b[39;49m\u001b[43mbetweenness\u001b[49m\u001b[43m(\u001b[49m\u001b[43msample_nodes\u001b[49m\u001b[43m)\u001b[49m\n\u001b[1;32m      7\u001b[0m \u001b[38;5;28mprint\u001b[39m(\u001b[38;5;124mf\u001b[39m\u001b[38;5;124m\"\u001b[39m\u001b[38;5;124mМакс. степень: \u001b[39m\u001b[38;5;132;01m{\u001b[39;00m\u001b[38;5;28mmax\u001b[39m(degree_centrality)\u001b[38;5;132;01m}\u001b[39;00m\u001b[38;5;124m\"\u001b[39m)\n\u001b[1;32m      8\u001b[0m \u001b[38;5;28mprint\u001b[39m(\u001b[38;5;124mf\u001b[39m\u001b[38;5;124m\"\u001b[39m\u001b[38;5;124mМакс. посредничество: \u001b[39m\u001b[38;5;132;01m{\u001b[39;00m\u001b[38;5;28mmax\u001b[39m(betweenness)\u001b[38;5;132;01m}\u001b[39;00m\u001b[38;5;124m\"\u001b[39m)\n",
      "\u001b[0;31mKeyboardInterrupt\u001b[0m: "
     ]
    }
   ],
   "source": [
    "np.random.seed(42)\n",
    "sample_nodes = np.random.choice(g.vcount(), size=1000, replace=False)\n",
    "print(\"\\n=== Центральности (для подвыборки 1000 узлов) ===\")\n",
    "degree_centrality = g.degree(sample_nodes)\n",
    "betweenness = g.betweenness(sample_nodes)\n",
    "print(f\"Макс. степень: {max(degree_centrality)}\")\n",
    "print(f\"Макс. посредничество: {max(betweenness)}\")"
   ]
  },
  {
   "cell_type": "code",
   "execution_count": 37,
   "metadata": {},
   "outputs": [],
   "source": [
    "# g.personalized_pagerank(damping=0.85, reset=reset_vector)\n",
    "r = g.personalized_pagerank()"
   ]
  },
  {
   "cell_type": "code",
   "execution_count": 47,
   "metadata": {},
   "outputs": [],
   "source": [
    "rl = []\n",
    "for i in range(len(r)):\n",
    "    rl.append([r[i], i])"
   ]
  },
  {
   "cell_type": "code",
   "execution_count": 48,
   "metadata": {},
   "outputs": [
    {
     "data": {
      "text/plain": [
       "[5.650334334239245e-07, 0]"
      ]
     },
     "execution_count": 48,
     "metadata": {},
     "output_type": "execute_result"
    }
   ],
   "source": [
    "rl[0]"
   ]
  },
  {
   "cell_type": "code",
   "execution_count": 49,
   "metadata": {},
   "outputs": [],
   "source": [
    "b = sorted(rl)"
   ]
  },
  {
   "cell_type": "code",
   "execution_count": 52,
   "metadata": {},
   "outputs": [
    {
     "data": {
      "text/plain": [
       "[[0.002934135441666441, 3744],\n",
       " [0.001687005246756345, 329],\n",
       " [0.0007393414068822501, 954354],\n",
       " [0.000660156138341521, 1282392],\n",
       " [0.0005204459419189206, 899501],\n",
       " [0.0005053777595129633, 2981],\n",
       " [0.00043987306370922097, 4759],\n",
       " [0.0004039515199121642, 36448],\n",
       " [0.00039885611093551555, 2900],\n",
       " [0.0003160943098554686, 4035]]"
      ]
     },
     "execution_count": 52,
     "metadata": {},
     "output_type": "execute_result"
    }
   ],
   "source": [
    "b[::-1][:10]"
   ]
  },
  {
   "cell_type": "code",
   "execution_count": 17,
   "metadata": {},
   "outputs": [
    {
     "name": "stdout",
     "output_type": "stream",
     "text": [
      "\n",
      "=== Сообщества ===\n",
      "Найдено сообществ: 69552\n"
     ]
    }
   ],
   "source": [
    "print(\"\\n=== Сообщества ===\")\n",
    "communities = g.community_multilevel()\n",
    "print(f\"Найдено сообществ: {len(communities)}\")"
   ]
  },
  {
   "cell_type": "code",
   "execution_count": 19,
   "metadata": {},
   "outputs": [],
   "source": [
    "g.write_graphml(\"large_graph.graphml\")"
   ]
  },
  {
   "cell_type": "code",
   "execution_count": 18,
   "metadata": {},
   "outputs": [
    {
     "ename": "KeyboardInterrupt",
     "evalue": "",
     "output_type": "error",
     "traceback": [
      "\u001b[0;31m---------------------------------------------------------------------------\u001b[0m",
      "\u001b[0;31mKeyboardInterrupt\u001b[0m                         Traceback (most recent call last)",
      "Cell \u001b[0;32mIn[18], line 4\u001b[0m\n\u001b[1;32m      1\u001b[0m community_graph \u001b[38;5;241m=\u001b[39m communities\u001b[38;5;241m.\u001b[39mcluster_graph()\n\u001b[1;32m      3\u001b[0m \u001b[38;5;66;03m# Визуализация свернутого графа\u001b[39;00m\n\u001b[0;32m----> 4\u001b[0m \u001b[43mig\u001b[49m\u001b[38;5;241;43m.\u001b[39;49m\u001b[43mplot\u001b[49m\u001b[43m(\u001b[49m\u001b[43mcommunity_graph\u001b[49m\u001b[43m,\u001b[49m\u001b[43m \u001b[49m\n\u001b[1;32m      5\u001b[0m \u001b[43m        \u001b[49m\u001b[43mvertex_label_size\u001b[49m\u001b[38;5;241;43m=\u001b[39;49m\u001b[38;5;241;43m10\u001b[39;49m\u001b[43m,\u001b[49m\u001b[43m \u001b[49m\n\u001b[1;32m      6\u001b[0m \u001b[43m        \u001b[49m\u001b[43mvertex_size\u001b[49m\u001b[38;5;241;43m=\u001b[39;49m\u001b[38;5;241;43m20\u001b[39;49m\u001b[43m,\u001b[49m\n\u001b[1;32m      7\u001b[0m \u001b[43m        \u001b[49m\u001b[43medge_curved\u001b[49m\u001b[38;5;241;43m=\u001b[39;49m\u001b[38;5;28;43;01mFalse\u001b[39;49;00m\u001b[43m,\u001b[49m\n\u001b[1;32m      8\u001b[0m \u001b[43m        \u001b[49m\u001b[43mtarget\u001b[49m\u001b[38;5;241;43m=\u001b[39;49m\u001b[38;5;124;43m\"\u001b[39;49m\u001b[38;5;124;43mcommunity_graph.png\u001b[39;49m\u001b[38;5;124;43m\"\u001b[39;49m\u001b[43m)\u001b[49m\n",
      "File \u001b[0;32m~/miniconda3/envs/dl/lib/python3.11/site-packages/igraph/drawing/__init__.py:319\u001b[0m, in \u001b[0;36mplot\u001b[0;34m(obj, target, bbox, *args, **kwds)\u001b[0m\n\u001b[1;32m    314\u001b[0m \u001b[38;5;66;03m# We are either not in IPython or the user specified an explicit plot target,\u001b[39;00m\n\u001b[1;32m    315\u001b[0m \u001b[38;5;66;03m# so just show or save the result\u001b[39;00m\n\u001b[1;32m    317\u001b[0m \u001b[38;5;28;01mif\u001b[39;00m \u001b[38;5;28misinstance\u001b[39m(target, (\u001b[38;5;28mstr\u001b[39m, Path)):\n\u001b[1;32m    318\u001b[0m     \u001b[38;5;66;03m# save\u001b[39;00m\n\u001b[0;32m--> 319\u001b[0m     \u001b[43mresult\u001b[49m\u001b[38;5;241;43m.\u001b[39;49m\u001b[43msave\u001b[49m\u001b[43m(\u001b[49m\u001b[43m)\u001b[49m\n\u001b[1;32m    321\u001b[0m \u001b[38;5;66;03m# Also return the plot itself\u001b[39;00m\n\u001b[1;32m    322\u001b[0m \u001b[38;5;28;01mreturn\u001b[39;00m result\n",
      "File \u001b[0;32m~/miniconda3/envs/dl/lib/python3.11/site-packages/igraph/drawing/cairo/plot.py:306\u001b[0m, in \u001b[0;36mCairoPlot.save\u001b[0;34m(self, fname)\u001b[0m\n\u001b[1;32m    300\u001b[0m \u001b[38;5;250m\u001b[39m\u001b[38;5;124;03m\"\"\"Saves the plot.\u001b[39;00m\n\u001b[1;32m    301\u001b[0m \n\u001b[1;32m    302\u001b[0m \u001b[38;5;124;03m@param fname: the filename to save to. It is ignored if the surface\u001b[39;00m\n\u001b[1;32m    303\u001b[0m \u001b[38;5;124;03m  of the plot is not an C{ImageSurface}.\u001b[39;00m\n\u001b[1;32m    304\u001b[0m \u001b[38;5;124;03m\"\"\"\u001b[39;00m\n\u001b[1;32m    305\u001b[0m \u001b[38;5;28;01mif\u001b[39;00m \u001b[38;5;28mself\u001b[39m\u001b[38;5;241m.\u001b[39m_is_dirty:\n\u001b[0;32m--> 306\u001b[0m     \u001b[38;5;28;43mself\u001b[39;49m\u001b[38;5;241;43m.\u001b[39;49m\u001b[43mredraw\u001b[49m\u001b[43m(\u001b[49m\u001b[43m)\u001b[49m\n\u001b[1;32m    307\u001b[0m \u001b[38;5;28;01mif\u001b[39;00m \u001b[38;5;28misinstance\u001b[39m(\u001b[38;5;28mself\u001b[39m\u001b[38;5;241m.\u001b[39m_surface, cairo\u001b[38;5;241m.\u001b[39mImageSurface):\n\u001b[1;32m    308\u001b[0m     \u001b[38;5;28;01mif\u001b[39;00m fname \u001b[38;5;129;01mis\u001b[39;00m \u001b[38;5;28;01mNone\u001b[39;00m \u001b[38;5;129;01mand\u001b[39;00m \u001b[38;5;28mself\u001b[39m\u001b[38;5;241m.\u001b[39m_need_tmpfile:\n",
      "File \u001b[0;32m~/miniconda3/envs/dl/lib/python3.11/site-packages/igraph/drawing/cairo/plot.py:283\u001b[0m, in \u001b[0;36mCairoPlot.redraw\u001b[0;34m(self, context)\u001b[0m\n\u001b[1;32m    281\u001b[0m \u001b[38;5;28;01melse\u001b[39;00m:\n\u001b[1;32m    282\u001b[0m     ctx\u001b[38;5;241m.\u001b[39msave()\n\u001b[0;32m--> 283\u001b[0m \u001b[43mplotter\u001b[49m\u001b[43m(\u001b[49m\n\u001b[1;32m    284\u001b[0m \u001b[43m    \u001b[49m\u001b[38;5;124;43m\"\u001b[39;49m\u001b[38;5;124;43mcairo\u001b[39;49m\u001b[38;5;124;43m\"\u001b[39;49m\u001b[43m,\u001b[49m\n\u001b[1;32m    285\u001b[0m \u001b[43m    \u001b[49m\u001b[43mctx\u001b[49m\u001b[43m,\u001b[49m\n\u001b[1;32m    286\u001b[0m \u001b[43m    \u001b[49m\u001b[43mbbox\u001b[49m\u001b[38;5;241;43m=\u001b[39;49m\u001b[43mbbox\u001b[49m\u001b[43m,\u001b[49m\n\u001b[1;32m    287\u001b[0m \u001b[43m    \u001b[49m\u001b[43mpalette\u001b[49m\u001b[38;5;241;43m=\u001b[39;49m\u001b[43mpalette\u001b[49m\u001b[43m,\u001b[49m\n\u001b[1;32m    288\u001b[0m \u001b[43m    \u001b[49m\u001b[38;5;241;43m*\u001b[39;49m\u001b[43margs\u001b[49m\u001b[43m,\u001b[49m\u001b[43m  \u001b[49m\u001b[38;5;66;43;03m# noqa: B026\u001b[39;49;00m\n\u001b[1;32m    289\u001b[0m \u001b[43m    \u001b[49m\u001b[38;5;241;43m*\u001b[39;49m\u001b[38;5;241;43m*\u001b[39;49m\u001b[43mkwds\u001b[49m\n\u001b[1;32m    290\u001b[0m \u001b[43m\u001b[49m\u001b[43m)\u001b[49m\n\u001b[1;32m    291\u001b[0m \u001b[38;5;28;01mif\u001b[39;00m opacity \u001b[38;5;241m<\u001b[39m \u001b[38;5;241m1.0\u001b[39m:\n\u001b[1;32m    292\u001b[0m     ctx\u001b[38;5;241m.\u001b[39mpop_group_to_source()\n",
      "File \u001b[0;32m~/miniconda3/envs/dl/lib/python3.11/site-packages/igraph/drawing/graph.py:561\u001b[0m, in \u001b[0;36m__plot__\u001b[0;34m(self, backend, context, *args, **kwds)\u001b[0m\n\u001b[1;32m    555\u001b[0m \u001b[38;5;28;01mfrom\u001b[39;00m \u001b[38;5;21;01migraph\u001b[39;00m\u001b[38;5;21;01m.\u001b[39;00m\u001b[38;5;21;01mdrawing\u001b[39;00m \u001b[38;5;28;01mimport\u001b[39;00m DrawerDirectory\n\u001b[1;32m    557\u001b[0m drawer \u001b[38;5;241m=\u001b[39m kwds\u001b[38;5;241m.\u001b[39mpop(\n\u001b[1;32m    558\u001b[0m     \u001b[38;5;124m\"\u001b[39m\u001b[38;5;124mdrawer_factory\u001b[39m\u001b[38;5;124m\"\u001b[39m,\n\u001b[1;32m    559\u001b[0m     DrawerDirectory\u001b[38;5;241m.\u001b[39mresolve(\u001b[38;5;28mself\u001b[39m, backend)(context),\n\u001b[1;32m    560\u001b[0m )\n\u001b[0;32m--> 561\u001b[0m \u001b[38;5;28;01mreturn\u001b[39;00m \u001b[43mdrawer\u001b[49m\u001b[38;5;241;43m.\u001b[39;49m\u001b[43mdraw\u001b[49m\u001b[43m(\u001b[49m\u001b[38;5;28;43mself\u001b[39;49m\u001b[43m,\u001b[49m\u001b[43m \u001b[49m\u001b[38;5;241;43m*\u001b[39;49m\u001b[43margs\u001b[49m\u001b[43m,\u001b[49m\u001b[43m \u001b[49m\u001b[38;5;241;43m*\u001b[39;49m\u001b[38;5;241;43m*\u001b[39;49m\u001b[43mkwds\u001b[49m\u001b[43m)\u001b[49m\n",
      "File \u001b[0;32m~/miniconda3/envs/dl/lib/python3.11/site-packages/igraph/drawing/cairo/graph.py:141\u001b[0m, in \u001b[0;36mCairoGraphDrawer.draw\u001b[0;34m(self, graph, *args, **kwds)\u001b[0m\n\u001b[1;32m    138\u001b[0m palette \u001b[38;5;241m=\u001b[39m kwds\u001b[38;5;241m.\u001b[39mpop(\u001b[38;5;124m\"\u001b[39m\u001b[38;5;124mpalette\u001b[39m\u001b[38;5;124m\"\u001b[39m, \u001b[38;5;28;01mNone\u001b[39;00m)\n\u001b[1;32m    140\u001b[0m \u001b[38;5;66;03m# Calculate/get the layout of the graph\u001b[39;00m\n\u001b[0;32m--> 141\u001b[0m layout \u001b[38;5;241m=\u001b[39m \u001b[38;5;28;43mself\u001b[39;49m\u001b[38;5;241;43m.\u001b[39;49m\u001b[43mensure_layout\u001b[49m\u001b[43m(\u001b[49m\u001b[43mkwds\u001b[49m\u001b[38;5;241;43m.\u001b[39;49m\u001b[43mget\u001b[49m\u001b[43m(\u001b[49m\u001b[38;5;124;43m\"\u001b[39;49m\u001b[38;5;124;43mlayout\u001b[39;49m\u001b[38;5;124;43m\"\u001b[39;49m\u001b[43m,\u001b[49m\u001b[43m \u001b[49m\u001b[38;5;28;43;01mNone\u001b[39;49;00m\u001b[43m)\u001b[49m\u001b[43m,\u001b[49m\u001b[43m \u001b[49m\u001b[43mgraph\u001b[49m\u001b[43m)\u001b[49m\n\u001b[1;32m    143\u001b[0m \u001b[38;5;66;03m# Determine the size of the margin on each side\u001b[39;00m\n\u001b[1;32m    144\u001b[0m margin \u001b[38;5;241m=\u001b[39m kwds\u001b[38;5;241m.\u001b[39mget(\u001b[38;5;124m\"\u001b[39m\u001b[38;5;124mmargin\u001b[39m\u001b[38;5;124m\"\u001b[39m, \u001b[38;5;241m0\u001b[39m)\n",
      "File \u001b[0;32m~/miniconda3/envs/dl/lib/python3.11/site-packages/igraph/drawing/baseclasses.py:305\u001b[0m, in \u001b[0;36mAbstractGraphDrawer.ensure_layout\u001b[0;34m(layout, graph)\u001b[0m\n\u001b[1;32m    303\u001b[0m     layout \u001b[38;5;241m=\u001b[39m AbstractGraphDrawer\u001b[38;5;241m.\u001b[39mensure_layout(graph[\u001b[38;5;124m\"\u001b[39m\u001b[38;5;124mlayout\u001b[39m\u001b[38;5;124m\"\u001b[39m], graph\u001b[38;5;241m=\u001b[39mgraph)\n\u001b[1;32m    304\u001b[0m \u001b[38;5;28;01melif\u001b[39;00m layout \u001b[38;5;129;01mis\u001b[39;00m \u001b[38;5;28;01mNone\u001b[39;00m:\n\u001b[0;32m--> 305\u001b[0m     layout \u001b[38;5;241m=\u001b[39m \u001b[43mgraph\u001b[49m\u001b[38;5;241;43m.\u001b[39;49m\u001b[43mlayout\u001b[49m\u001b[43m(\u001b[49m\u001b[43mlayout\u001b[49m\u001b[43m)\u001b[49m\n\u001b[1;32m    306\u001b[0m \u001b[38;5;28;01melse\u001b[39;00m:\n\u001b[1;32m    307\u001b[0m     layout \u001b[38;5;241m=\u001b[39m Layout(layout)\n",
      "File \u001b[0;32m~/miniconda3/envs/dl/lib/python3.11/site-packages/igraph/layout.py:531\u001b[0m, in \u001b[0;36m_layout\u001b[0;34m(graph, layout, *args, **kwds)\u001b[0m\n\u001b[1;32m    529\u001b[0m \u001b[38;5;28;01mif\u001b[39;00m \u001b[38;5;129;01mnot\u001b[39;00m \u001b[38;5;28mcallable\u001b[39m(method):\n\u001b[1;32m    530\u001b[0m     \u001b[38;5;28;01mraise\u001b[39;00m \u001b[38;5;167;01mValueError\u001b[39;00m(\u001b[38;5;124m\"\u001b[39m\u001b[38;5;124mlayout method must be callable\u001b[39m\u001b[38;5;124m\"\u001b[39m)\n\u001b[0;32m--> 531\u001b[0m layout \u001b[38;5;241m=\u001b[39m \u001b[43mmethod\u001b[49m\u001b[43m(\u001b[49m\u001b[43mgraph\u001b[49m\u001b[43m,\u001b[49m\u001b[43m \u001b[49m\u001b[38;5;241;43m*\u001b[39;49m\u001b[43margs\u001b[49m\u001b[43m,\u001b[49m\u001b[43m \u001b[49m\u001b[38;5;241;43m*\u001b[39;49m\u001b[38;5;241;43m*\u001b[39;49m\u001b[43mkwds\u001b[49m\u001b[43m)\u001b[49m\n\u001b[1;32m    532\u001b[0m \u001b[38;5;28;01mif\u001b[39;00m \u001b[38;5;129;01mnot\u001b[39;00m \u001b[38;5;28misinstance\u001b[39m(layout, Layout):\n\u001b[1;32m    533\u001b[0m     layout \u001b[38;5;241m=\u001b[39m Layout(layout)\n",
      "File \u001b[0;32m~/miniconda3/envs/dl/lib/python3.11/site-packages/igraph/layout.py:602\u001b[0m, in \u001b[0;36m_layout_auto\u001b[0;34m(graph, *args, **kwds)\u001b[0m\n\u001b[1;32m    600\u001b[0m \u001b[38;5;28;01melse\u001b[39;00m:\n\u001b[1;32m    601\u001b[0m     algo \u001b[38;5;241m=\u001b[39m \u001b[38;5;124m\"\u001b[39m\u001b[38;5;124mdrl\u001b[39m\u001b[38;5;124m\"\u001b[39m\n\u001b[0;32m--> 602\u001b[0m \u001b[38;5;28;01mreturn\u001b[39;00m \u001b[43mgraph\u001b[49m\u001b[38;5;241;43m.\u001b[39;49m\u001b[43mlayout\u001b[49m\u001b[43m(\u001b[49m\u001b[43malgo\u001b[49m\u001b[43m,\u001b[49m\u001b[43m \u001b[49m\u001b[38;5;241;43m*\u001b[39;49m\u001b[43margs\u001b[49m\u001b[43m,\u001b[49m\u001b[43m \u001b[49m\u001b[38;5;241;43m*\u001b[39;49m\u001b[38;5;241;43m*\u001b[39;49m\u001b[43mkwds\u001b[49m\u001b[43m)\u001b[49m\n",
      "File \u001b[0;32m~/miniconda3/envs/dl/lib/python3.11/site-packages/igraph/layout.py:531\u001b[0m, in \u001b[0;36m_layout\u001b[0;34m(graph, layout, *args, **kwds)\u001b[0m\n\u001b[1;32m    529\u001b[0m \u001b[38;5;28;01mif\u001b[39;00m \u001b[38;5;129;01mnot\u001b[39;00m \u001b[38;5;28mcallable\u001b[39m(method):\n\u001b[1;32m    530\u001b[0m     \u001b[38;5;28;01mraise\u001b[39;00m \u001b[38;5;167;01mValueError\u001b[39;00m(\u001b[38;5;124m\"\u001b[39m\u001b[38;5;124mlayout method must be callable\u001b[39m\u001b[38;5;124m\"\u001b[39m)\n\u001b[0;32m--> 531\u001b[0m layout \u001b[38;5;241m=\u001b[39m \u001b[43mmethod\u001b[49m\u001b[43m(\u001b[49m\u001b[43mgraph\u001b[49m\u001b[43m,\u001b[49m\u001b[43m \u001b[49m\u001b[38;5;241;43m*\u001b[39;49m\u001b[43margs\u001b[49m\u001b[43m,\u001b[49m\u001b[43m \u001b[49m\u001b[38;5;241;43m*\u001b[39;49m\u001b[38;5;241;43m*\u001b[39;49m\u001b[43mkwds\u001b[49m\u001b[43m)\u001b[49m\n\u001b[1;32m    532\u001b[0m \u001b[38;5;28;01mif\u001b[39;00m \u001b[38;5;129;01mnot\u001b[39;00m \u001b[38;5;28misinstance\u001b[39m(layout, Layout):\n\u001b[1;32m    533\u001b[0m     layout \u001b[38;5;241m=\u001b[39m Layout(layout)\n",
      "File \u001b[0;32m~/miniconda3/envs/dl/lib/python3.11/site-packages/igraph/layout.py:691\u001b[0m, in \u001b[0;36m_layout_method_wrapper.<locals>.result\u001b[0;34m(*args, **kwds)\u001b[0m\n\u001b[1;32m    690\u001b[0m \u001b[38;5;28;01mdef\u001b[39;00m \u001b[38;5;21mresult\u001b[39m(\u001b[38;5;241m*\u001b[39margs, \u001b[38;5;241m*\u001b[39m\u001b[38;5;241m*\u001b[39mkwds):\n\u001b[0;32m--> 691\u001b[0m     layout \u001b[38;5;241m=\u001b[39m \u001b[43mfunc\u001b[49m\u001b[43m(\u001b[49m\u001b[38;5;241;43m*\u001b[39;49m\u001b[43margs\u001b[49m\u001b[43m,\u001b[49m\u001b[43m \u001b[49m\u001b[38;5;241;43m*\u001b[39;49m\u001b[38;5;241;43m*\u001b[39;49m\u001b[43mkwds\u001b[49m\u001b[43m)\u001b[49m\n\u001b[1;32m    692\u001b[0m     \u001b[38;5;28;01mif\u001b[39;00m \u001b[38;5;129;01mnot\u001b[39;00m \u001b[38;5;28misinstance\u001b[39m(layout, Layout):\n\u001b[1;32m    693\u001b[0m         layout \u001b[38;5;241m=\u001b[39m Layout(layout)\n",
      "\u001b[0;31mKeyboardInterrupt\u001b[0m: "
     ]
    }
   ],
   "source": [
    "community_graph = communities.cluster_graph()\n",
    "\n",
    "ig.plot(community_graph, \n",
    "        vertex_label_size=10, \n",
    "        vertex_size=20,\n",
    "        edge_curved=False,\n",
    "        target=\"community_graph.png\")"
   ]
  },
  {
   "cell_type": "code",
   "execution_count": 27,
   "metadata": {},
   "outputs": [],
   "source": [
    "degrees = g.degree()\n",
    "d = []\n",
    "for i in range(len(degrees)):\n",
    "    if degrees[i] < 150:\n",
    "        d.append(degrees[i])"
   ]
  },
  {
   "cell_type": "code",
   "execution_count": 28,
   "metadata": {},
   "outputs": [
    {
     "data": {
      "image/png": "[encoded data removed]",
      "text/plain": [
       "<Figure size 640x480 with 1 Axes>"
      ]
     },
     "metadata": {},
     "output_type": "display_data"
    }
   ],
   "source": [
    "# degrees = g.degree()\n",
    "plt.hist(d, bins=100, alpha=0.7, color='blue')\n",
    "plt.title(\"Распределение степеней узлов\")\n",
    "plt.xlabel(\"Степень\")\n",
    "plt.ylabel(\"Количество узлов\")\n",
    "plt.show()"
   ]
  },
  {
   "cell_type": "code",
   "execution_count": 16,
   "metadata": {},
   "outputs": [
    {
     "name": "stdout",
     "output_type": "stream",
     "text": [
      "\n",
      "Визуализация всего графа невозможна - используйте подграфы:\n"
     ]
    }
   ],
   "source": [
    "if g.vcount() < 500:\n",
    "    ig.plot(g, target=\"graph.png\", vertex_size=10)\n",
    "else:\n",
    "    ego = g.neighborhood(vertices=0, order=3)\n",
    "    subgraph = g.induced_subgraph(ego)\n",
    "    ig.plot(subgraph, target=\"ego_network.png\", vertex_size=15)"
   ]
  },
  {
   "cell_type": "code",
   "execution_count": 11,
   "metadata": {},
   "outputs": [
    {
     "name": "stdout",
     "output_type": "stream",
     "text": [
      "=== Базовые метрики ===\n",
      "Количество узлов: 1709575\n",
      "Количество ребер: 13170869\n",
      "Средняя степень: 15.41\n",
      "Плотность графа: 0.0000\n",
      "Связный ли граф? Да\n",
      "\n",
      "=== Центральности (для подвыборки 1000 узлов) ===\n",
      "Макс. степень: 2294\n",
      "\n",
      "=== Сообщества ===\n"
     ]
    },
    {
     "ename": "KeyboardInterrupt",
     "evalue": "",
     "output_type": "error",
     "traceback": [
      "\u001b[0;31m---------------------------------------------------------------------------\u001b[0m",
      "\u001b[0;31mKeyboardInterrupt\u001b[0m                         Traceback (most recent call last)",
      "Cell \u001b[0;32mIn[11], line 19\u001b[0m\n\u001b[1;32m     15\u001b[0m \u001b[38;5;66;03m# print(f\"Макс. посредничество: {max(betweenness)}\")\u001b[39;00m\n\u001b[1;32m     16\u001b[0m \n\u001b[1;32m     17\u001b[0m \u001b[38;5;66;03m# 4. Поиск сообществ (алгоритм Лувена)\u001b[39;00m\n\u001b[1;32m     18\u001b[0m \u001b[38;5;28mprint\u001b[39m(\u001b[38;5;124m\"\u001b[39m\u001b[38;5;130;01m\\n\u001b[39;00m\u001b[38;5;124m=== Сообщества ===\u001b[39m\u001b[38;5;124m\"\u001b[39m)\n\u001b[0;32m---> 19\u001b[0m communities \u001b[38;5;241m=\u001b[39m \u001b[43mg\u001b[49m\u001b[38;5;241;43m.\u001b[39;49m\u001b[43mcommunity_multilevel\u001b[49m\u001b[43m(\u001b[49m\u001b[43m)\u001b[49m\n\u001b[1;32m     20\u001b[0m \u001b[38;5;28mprint\u001b[39m(\u001b[38;5;124mf\u001b[39m\u001b[38;5;124m\"\u001b[39m\u001b[38;5;124mНайдено сообществ: \u001b[39m\u001b[38;5;132;01m{\u001b[39;00m\u001b[38;5;28mlen\u001b[39m(communities)\u001b[38;5;132;01m}\u001b[39;00m\u001b[38;5;124m\"\u001b[39m)\n\u001b[1;32m     22\u001b[0m \u001b[38;5;66;03m# 5. Распределение степеней\u001b[39;00m\n",
      "File \u001b[0;32m~/miniconda3/envs/dl/lib/python3.11/site-packages/igraph/community.py:197\u001b[0m, in \u001b[0;36m_community_multilevel\u001b[0;34m(graph, weights, return_levels, resolution)\u001b[0m\n\u001b[1;32m    193\u001b[0m         result\u001b[38;5;241m.\u001b[39mappend(\n\u001b[1;32m    194\u001b[0m             VertexClustering(graph, level, q, modularity_params\u001b[38;5;241m=\u001b[39mmodularity_params)\n\u001b[1;32m    195\u001b[0m         )\n\u001b[1;32m    196\u001b[0m \u001b[38;5;28;01melse\u001b[39;00m:\n\u001b[0;32m--> 197\u001b[0m     membership \u001b[38;5;241m=\u001b[39m \u001b[43mGraphBase\u001b[49m\u001b[38;5;241;43m.\u001b[39;49m\u001b[43mcommunity_multilevel\u001b[49m\u001b[43m(\u001b[49m\n\u001b[1;32m    198\u001b[0m \u001b[43m        \u001b[49m\u001b[43mgraph\u001b[49m\u001b[43m,\u001b[49m\u001b[43m \u001b[49m\u001b[43mweights\u001b[49m\u001b[43m,\u001b[49m\u001b[43m \u001b[49m\u001b[43mreturn_levels\u001b[49m\u001b[38;5;241;43m=\u001b[39;49m\u001b[38;5;28;43;01mFalse\u001b[39;49;00m\u001b[43m,\u001b[49m\u001b[43m \u001b[49m\u001b[43mresolution\u001b[49m\u001b[38;5;241;43m=\u001b[39;49m\u001b[43mresolution\u001b[49m\n\u001b[1;32m    199\u001b[0m \u001b[43m    \u001b[49m\u001b[43m)\u001b[49m\n\u001b[1;32m    200\u001b[0m     result \u001b[38;5;241m=\u001b[39m VertexClustering(\n\u001b[1;32m    201\u001b[0m         graph, membership, modularity_params\u001b[38;5;241m=\u001b[39mmodularity_params\n\u001b[1;32m    202\u001b[0m     )\n\u001b[1;32m    204\u001b[0m \u001b[38;5;28;01mreturn\u001b[39;00m result\n",
      "\u001b[0;31mKeyboardInterrupt\u001b[0m: "
     ]
    }
   ],
   "source": [
    "print(\"=== Базовые метрики ===\")\n",
    "print(f\"Количество узлов: {g.vcount()}\")\n",
    "print(f\"Количество ребер: {g.ecount()}\")\n",
    "print(f\"Средняя степень: {2 * g.ecount() / g.vcount():.2f}\")\n",
    "print(f\"Плотность графа: {g.density():.4f}\")\n",
    "print(f\"Связный ли граф? {'Да' if g.is_connected() else 'Нет'}\")\n",
    "\n",
    "sample_nodes = np.random.choice(g.vcount(), size=1000, replace=False)\n",
    "print(\"\\n=== Центральности (для подвыборки 1000 узлов) ===\")\n",
    "degree_centrality = g.degree(sample_nodes)\n",
    "# betweenness = g.betweenness(sample_nodes)\n",
    "print(f\"Макс. степень: {max(degree_centrality)}\")\n",
    "# print(f\"Макс. посредничество: {max(betweenness)}\")\n",
    "\n",
    "print(\"\\n=== Сообщества ===\")\n",
    "communities = g.community_multilevel()\n",
    "print(f\"Найдено сообществ: {len(communities)}\")\n",
    "\n",
    "degrees = g.degree()\n",
    "plt.hist(degrees, bins=50, alpha=0.7, color='blue')\n",
    "plt.title(\"Распределение степеней узлов\")\n",
    "plt.xlabel(\"Степень\")\n",
    "plt.ylabel(\"Количество узлов\")\n",
    "plt.show()\n",
    "\n",
    "if g.vcount() < 500:\n",
    "    ig.plot(g, target=\"graph.png\", vertex_size=10)\n",
    "else:\n",
    "    ego = g.neighborhood(vertices=0, order=2)\n",
    "    subgraph = g.induced_subgraph(ego)\n",
    "    ig.plot(subgraph, target=\"ego_network.png\", vertex_size=15)"
   ]
  },
  {
   "cell_type": "code",
   "execution_count": null,
   "metadata": {},
   "outputs": [
    {
     "name": "stderr",
     "output_type": "stream",
     "text": [
      "Exception ignored in: <function _xla_gc_callback at 0x149994a60>\n",
      "Traceback (most recent call last):\n",
      "  File \"/Users/maximnikitin/Documents/miniconda3/envs/dl/lib/python3.10/site-packages/jax/_src/lib/__init__.py\", line 98, in _xla_gc_callback\n",
      "    def _xla_gc_callback(*args):\n",
      "KeyboardInterrupt: \n"
     ]
    }
   ],
   "source": [
    "degree_centrality = nx.degree_centrality(G)\n",
    "betweenness_centrality = nx.betweenness_centrality(G)"
   ]
  },
  {
   "cell_type": "code",
   "execution_count": null,
   "metadata": {},
   "outputs": [],
   "source": [
    "nx.draw(G, with_labels=True, node_color='lightblue')\n",
    "plt.show()"
   ]
  },
  {
   "cell_type": "code",
   "execution_count": null,
   "metadata": {},
   "outputs": [],
   "source": []
  }
 ],
 "metadata": {
  "kernelspec": {
   "display_name": "dl",
   "language": "python",
   "name": "python3"
  },
  "language_info": {
   "codemirror_mode": {
    "name": "ipython",
    "version": 3
   },
   "file_extension": ".py",
   "mimetype": "text/x-python",
   "name": "python",
   "nbconvert_exporter": "python",
   "pygments_lexer": "ipython3",
   "version": "3.11.5"
  }
 },
 "nbformat": 4,
 "nbformat_minor": 4
}
